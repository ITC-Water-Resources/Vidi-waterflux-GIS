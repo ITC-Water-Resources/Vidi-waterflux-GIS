{
 "cells": [
  {
   "cell_type": "markdown",
   "id": "6763ce9f-ed20-4a65-ac83-18bbe7492778",
   "metadata": {},
   "source": [
    "This module reads a geopackage with three layers. For the layers `HornOfAfrica` and `NorthSeaRegion`, total bounds is extracted."
   ]
  },
  {
   "cell_type": "code",
   "execution_count": 1,
   "id": "307029ae-25f9-4054-ac03-fcda45e9d023",
   "metadata": {},
   "outputs": [],
   "source": [
    "file = '../roi-basins/NorthSea-Horn of Africa_basins/NorthSea-HornofAfrca_regions.gpkg'"
   ]
  },
  {
   "cell_type": "code",
   "execution_count": 27,
   "id": "05108f7b-c241-4f15-b07f-94c048f2fb06",
   "metadata": {},
   "outputs": [],
   "source": [
    "import geopandas as gpd\n",
    "import fiona\n",
    "from shapely.geometry import Polygon"
   ]
  },
  {
   "cell_type": "code",
   "execution_count": 9,
   "id": "e100b06e-14fa-4a6f-8860-b90e2a31b24d",
   "metadata": {},
   "outputs": [],
   "source": [
    "geopkg = dict()"
   ]
  },
  {
   "cell_type": "code",
   "execution_count": 10,
   "id": "2469a6be-dd0c-4031-9595-2e98732ae628",
   "metadata": {},
   "outputs": [],
   "source": [
    "for layername in fiona.listlayers(file):\n",
    "    geopkg[layername] = gpd.read_file(file, layer=layername)"
   ]
  },
  {
   "cell_type": "code",
   "execution_count": 21,
   "id": "a1f8ab0e-9ded-439b-8bb7-23eadcc34a2a",
   "metadata": {},
   "outputs": [],
   "source": [
    "bounds_HoA = geopkg['HornOfAfrica'].total_bounds"
   ]
  },
  {
   "cell_type": "code",
   "execution_count": 22,
   "id": "fe49c78e-97d6-4cd9-ad61-22f1015f798a",
   "metadata": {},
   "outputs": [],
   "source": [
    "bounds_NSR = geopkg['NorthSeaRegion'].total_bounds"
   ]
  },
  {
   "cell_type": "code",
   "execution_count": 23,
   "id": "c4d8883c-8fff-43b8-bd1e-2e09c034d446",
   "metadata": {},
   "outputs": [],
   "source": [
    "bounds_HoA_buffer_05 = bounds_HoA + [-0.5, -0.5, 0.5, 0.5]\n",
    "bounds_NSR_buffer_05 = bounds_NSR + [-0.5, -0.5, 0.5, 0.5]"
   ]
  },
  {
   "cell_type": "code",
   "execution_count": 24,
   "id": "3db0e43b-0a6d-472a-9cb0-6129dee813d6",
   "metadata": {},
   "outputs": [
    {
     "data": {
      "text/plain": [
       "array([  6.51847065, -20.99272779,  46.96344857,  31.98886493])"
      ]
     },
     "execution_count": 24,
     "metadata": {},
     "output_type": "execute_result"
    }
   ],
   "source": [
    "bounds_HoA_buffer_05"
   ]
  },
  {
   "cell_type": "code",
   "execution_count": 25,
   "id": "3557f675-1aea-42cc-b1ab-83a0802714fa",
   "metadata": {},
   "outputs": [
    {
     "data": {
      "text/plain": [
       "array([-5.152218  , 45.87161431, 15.37717499, 63.39604056])"
      ]
     },
     "execution_count": 25,
     "metadata": {},
     "output_type": "execute_result"
    }
   ],
   "source": [
    "bounds_NSR_buffer_05"
   ]
  },
  {
   "cell_type": "code",
   "execution_count": 26,
   "id": "e27b3d99-dc3c-4205-ab23-445f62bf732f",
   "metadata": {},
   "outputs": [],
   "source": [
    "bounds_HoA_buffer_05_rounded = [6.5, -21, 47.0, 32.0]\n",
    "bounds_NSR_buffer_05_rounded = [-5.0, 45.5, 15.5, 63.5]"
   ]
  },
  {
   "cell_type": "markdown",
   "id": "bf9c62ad-8dd3-4e5d-a80d-1e4bb63fdbfd",
   "metadata": {},
   "source": [
    "# Create extent for North Sea region"
   ]
  },
  {
   "cell_type": "code",
   "execution_count": null,
   "id": "d2835392-bc74-4762-a912-a020115cac12",
   "metadata": {},
   "outputs": [],
   "source": [
    "coordinates = [(-5.0,63.5), (15.5,63.5), (15.5,45.5), (-5,45.5)]\n",
    "polygon = Polygon(coordinates)\n",
    "gdf = gpd.GeoDataFrame(geometry=[polygon], crs='EPSG:4326')\n",
    "gdf.to_file('north_sea.gpkg', driver = \"GPKG\")"
   ]
  },
  {
   "cell_type": "markdown",
   "id": "27e9561f-3de1-4733-90e5-b75478d12ec1",
   "metadata": {},
   "source": [
    "# Create extent for Horn of Africa region"
   ]
  },
  {
   "cell_type": "code",
   "execution_count": null,
   "id": "321ddd16-ad65-4920-bc90-044e9af05897",
   "metadata": {},
   "outputs": [],
   "source": [
    "coordinates = [(6.5,32.0), (47.0,32.0), (47.0,-21), (6.5,-21)]\n",
    "polygon = Polygon(coordinates)\n",
    "gdf = gpd.GeoDataFrame(geometry=[polygon], crs='EPSG:4326')\n",
    "gdf.to_file('horn_of_africa.gpkg', driver = \"GPKG\")"
   ]
  }
 ],
 "metadata": {
  "kernelspec": {
   "display_name": "Python",
   "language": "python",
   "name": "python3"
  },
  "language_info": {
   "codemirror_mode": {
    "name": "ipython",
    "version": 3
   },
   "file_extension": ".py",
   "mimetype": "text/x-python",
   "name": "python",
   "nbconvert_exporter": "python",
   "pygments_lexer": "ipython3",
   "version": "3.8.10"
  }
 },
 "nbformat": 4,
 "nbformat_minor": 5
}
