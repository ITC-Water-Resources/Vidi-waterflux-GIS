{
 "cells": [
  {
   "cell_type": "markdown",
   "id": "3edd265b",
   "metadata": {},
   "source": [
    "# Create extent for North Sea region"
   ]
  },
  {
   "cell_type": "code",
   "execution_count": 1,
   "id": "ab059bf5",
   "metadata": {},
   "outputs": [],
   "source": [
    "import geopandas as gpd\n",
    "from shapely.geometry import Polygon\n",
    "\n",
    "coordinates = [(-5,61), (12,61), (12,50), (-5,50)]\n",
    "polygon = Polygon(coordinates)\n",
    "gdf = gpd.GeoDataFrame(geometry=[polygon], crs='EPSG:4326')\n",
    "gdf.to_file('north_sea.shp')\n",
    "\n"
   ]
  },
  {
   "cell_type": "markdown",
   "id": "79a071a7",
   "metadata": {},
   "source": [
    "# Create extent for Horn of Africa region"
   ]
  },
  {
   "cell_type": "code",
   "execution_count": 3,
   "id": "880c4b23",
   "metadata": {},
   "outputs": [],
   "source": [
    "import geopandas as gpd\n",
    "from shapely.geometry import Polygon\n",
    "\n",
    "coordinates = [(20,25), (54,25), (54,-15), (20,-15)]\n",
    "polygon = Polygon(coordinates)\n",
    "gdf = gpd.GeoDataFrame(geometry=[polygon], crs='EPSG:4326')\n",
    "gdf.to_file('horn_of_africa.shp')"
   ]
  },
  {
   "cell_type": "code",
   "execution_count": null,
   "id": "e2808672",
   "metadata": {},
   "outputs": [],
   "source": []
  }
 ],
 "metadata": {
  "kernelspec": {
   "display_name": "Python 3 (ipykernel)",
   "language": "python",
   "name": "python3"
  },
  "language_info": {
   "codemirror_mode": {
    "name": "ipython",
    "version": 3
   },
   "file_extension": ".py",
   "mimetype": "text/x-python",
   "name": "python",
   "nbconvert_exporter": "python",
   "pygments_lexer": "ipython3",
   "version": "3.11.3"
  }
 },
 "nbformat": 4,
 "nbformat_minor": 5
}
